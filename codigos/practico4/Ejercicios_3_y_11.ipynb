{
  "cells": [
    {
      "cell_type": "markdown",
      "metadata": {
        "id": "view-in-github",
        "colab_type": "text"
      },
      "source": [
        "<a href=\"https://colab.research.google.com/github/lbiedma/mysfamaf2025/blob/main/codigos/practico4/Ejercicios_3_y_11.ipynb\" target=\"_parent\"><img src=\"https://colab.research.google.com/assets/colab-badge.svg\" alt=\"Open In Colab\"/></a>"
      ]
    },
    {
      "cell_type": "markdown",
      "metadata": {
        "id": "C8-nKXCaWmDH"
      },
      "source": [
        "# DEFINICIONES GENERALES"
      ]
    },
    {
      "cell_type": "code",
      "execution_count": 10,
      "metadata": {
        "id": "9Y5k0XaqWte6"
      },
      "outputs": [],
      "source": [
        "import math\n",
        "import numpy as np\n",
        "import random\n",
        "import seaborn as sns\n",
        "from time import time"
      ]
    },
    {
      "cell_type": "code",
      "execution_count": 11,
      "metadata": {
        "id": "p24O-y7JWwC8"
      },
      "outputs": [],
      "source": [
        "#@title discreta $[1,n]$\n",
        "def udiscreta(n):\n",
        "  U = random.random()\n",
        "  return int(n * U) + 1"
      ]
    },
    {
      "cell_type": "code",
      "execution_count": 12,
      "metadata": {
        "id": "V7VHbS458jex"
      },
      "outputs": [],
      "source": [
        "#@title metodo de simulacion\n",
        "def simulate(X,n_sim,ddof=0,**kwargs):\n",
        "    \"\"\"\n",
        "    Parameters:\n",
        "    -----------\n",
        "    X : callable\n",
        "        A function (or callable object) that generates a single simulated value when called with **kwargs.\n",
        "    n_sim : int\n",
        "        Number of simulations to run.\n",
        "    ddof : int, optional (default=0)\n",
        "        Delta degrees of freedom for variance and standard deviation calculations.\n",
        "        If ddof=0 (default), computes population variance/std.\n",
        "        If ddof=1, computes sample variance/std (unbiased estimator).\n",
        "    **kwargs : dict\n",
        "        Additional keyword arguments passed to the function X.\n",
        "\n",
        "    Returns:\n",
        "    --------\n",
        "    s : ndarray\n",
        "        Array of all simulated values (shape: (n_sim,)).\n",
        "    mean_sim : float\n",
        "        Mean of the simulated values.\n",
        "    median_sim : float\n",
        "        Median of the simulated values.\n",
        "    var_sim : float\n",
        "        Variance of the simulated values (with specified ddof).\n",
        "    std_sim : float\n",
        "        Standard deviation of the simulated values (with specified ddof).\n",
        "    \"\"\"\n",
        "    s = np.empty(n_sim)\n",
        "    for i in range(n_sim):\n",
        "      s[i]=X(**kwargs)\n",
        "    mean_sim = np.mean(s)\n",
        "    median_sim = np.median(s)\n",
        "    var_sim = np.var(s,ddof=ddof)\n",
        "    std_sim = np.std(s,ddof=ddof)\n",
        "    return s,mean_sim,median_sim,var_sim,std_sim"
      ]
    },
    {
      "cell_type": "markdown",
      "metadata": {
        "id": "YbPeCpFy0llL"
      },
      "source": [
        "# Ejercicio 3.\n",
        "Se lanzan simultáneamente un par de dados legales y se anota\n",
        "el resultado de la suma de ambos. El proceso se repite hasta que\n",
        "todos los resultados posibles: $2, 3, \\dots, 12$ hayan aparecido al\n",
        "menos una vez. Estudiar mediante una simulación la variable <mark>$N$, el número de lanzamientos necesarios para cumplir el proceso </mark>. Cada lanzamiento\n",
        "implica arrojar *el par* de dados."
      ]
    },
    {
      "cell_type": "markdown",
      "metadata": {
        "id": "HngHMT2Y1Vbg"
      },
      "source": [
        "## a)\n",
        "Describa la estructura lógica del algoritmo que permite simular en computadora el número de lanzamientos necesarios para cumplir el proceso."
      ]
    },
    {
      "cell_type": "code",
      "execution_count": 13,
      "metadata": {
        "id": "eWxqTD_l0nhh"
      },
      "outputs": [],
      "source": [
        "def dices_trial():\n",
        "  \"\"\"\n",
        "  Simulates rolling two fair 6-sided dice and returns their sum.\n",
        "  \"\"\"\n",
        "  return udiscreta(6) + udiscreta(6)\n",
        "\n",
        "def N():\n",
        "  \"\"\"\n",
        "  Counts how many trials are needed until all sums from 2 to 12 appear at least once.\n",
        "  \"\"\"\n",
        "  s = set()\n",
        "  i = 0\n",
        "  while len(s)<11:\n",
        "    i += 1\n",
        "    t = dices_trial()\n",
        "    s.add(t)\n",
        "  return i"
      ]
    },
    {
      "cell_type": "markdown",
      "metadata": {
        "id": "mIHX9nBl1sAD"
      },
      "source": [
        "## b)\n",
        "Mediante una implementación en computadora,\n",
        "\n",
        "1. Estime el valor medio y la desviación estándar del número de\n",
        "lanzamientos, repitiendo el algoritmo: 100, 1000, 10000 y 100000\n",
        "veces.\n",
        "\n",
        "2. Estime la probabilidad de que  $N$ sea por lo menos 15 y la probabilidad de que $N$ sea a lo sumo 9, repitiendo el algoritmo: 100, 1000, 10000 y 100000."
      ]
    },
    {
      "cell_type": "code",
      "execution_count": 15,
      "metadata": {
        "colab": {
          "base_uri": "https://localhost:8080/",
          "height": 916
        },
        "id": "qDLEP7e-6ohB",
        "outputId": "1bb03537-c5d7-4401-ebc7-d636d3e557c4"
      },
      "outputs": [
        {
          "output_type": "stream",
          "name": "stdout",
          "text": [
            "| n_sim = 100|\n",
            "|tiempo = 0.00426|\n",
            "     media = 68.59\n",
            "desviación = 48.53845794831146\n",
            "  P(N>=15) = 1.0\n",
            "   P(N<=9) = 0.0\n",
            "-----------------------------\n",
            "| n_sim = 1000|\n",
            "|tiempo = 0.03591|\n",
            "     media = 61.355\n",
            "desviación = 36.79555645726805\n",
            "  P(N>=15) = 0.998\n",
            "   P(N<=9) = 0.0\n",
            "-----------------------------\n",
            "| n_sim = 10000|\n",
            "|tiempo = 0.31591|\n",
            "     media = 60.7878\n",
            "desviación = 35.71048545119486\n",
            "  P(N>=15) = 0.9985\n",
            "   P(N<=9) = 0.0\n",
            "-----------------------------\n",
            "| n_sim = 100000|\n",
            "|tiempo = 3.25588|\n",
            "     media = 61.30005\n",
            "desviación = 36.21586503174403\n",
            "  P(N>=15) = 0.99853\n",
            "   P(N<=9) = 0.0\n",
            "-----------------------------\n"
          ]
        },
        {
          "output_type": "display_data",
          "data": {
            "text/plain": [
              "<Figure size 640x480 with 1 Axes>"
            ],
            "image/png": "[encoded data removed]"
          },
          "metadata": {}
        }
      ],
      "source": [
        "#@title { vertical-output: true}\n",
        "for k in [int(x) for x in [1e2,1e3,1e4,1e5]]:\n",
        "  initial_t = time()\n",
        "  s,mean,_,_,std = simulate(N,\n",
        "                            n_sim=k)\n",
        "  print(f'| n_sim = {k}|')\n",
        "  print(f'|tiempo = {round(time()-initial_t,5)}|')\n",
        "  p_15 = np.sum(s >= 15)/k\n",
        "  p_9 = np.sum(s <= 9)/k\n",
        "  print(f'     media = {mean}')\n",
        "  print(f'desviación = {std}')\n",
        "  print(f'  P(N>=15) = {p_15}')\n",
        "  print(f'   P(N<=9) = {p_9}')\n",
        "  print('-----------------------------')\n",
        "s,mean,_,_,std = simulate(N, n_sim=int(1e3))\n",
        "binwidth = 12\n",
        "sns.histplot(s,\n",
        "             binwidth=binwidth,\n",
        "             );"
      ]
    },
    {
      "cell_type": "markdown",
      "metadata": {
        "id": "VwtWFlOCYneM"
      },
      "source": [
        "# Ejercicio 11.\n",
        "\n",
        "Sea $X$ una variable aleatoria cuya distribución de\n",
        "probabilidad es $P(X=j) = p_j$ con $j=1,2,\\dots$. Sea:\n",
        "\n",
        "$$\n",
        "\\lambda_n = P(X=n | X>n-1) = \\frac{p_n}\n",
        "{1 - \\displaystyle \\sum_{j=1}^{n-1} p_j}\n",
        "\\;,\\;\\; n=1,2,\\dots\n",
        "$$\n",
        "\n",
        "Las cantidades $\\lambda_n$, son las <mark>tasas discretas de riesgo</mark>.\n",
        "Considerando a $X$ como el tiempo (discreto) de vida de alg\\'un\n",
        "art\\'iculo, $\\lambda_n$ representa la probabilidad de que habiendo\n",
        "funcionado correctamente hasta el tiempo $n-1$, se rompa en el tiempo $n$."
      ]
    },
    {
      "cell_type": "markdown",
      "metadata": {
        "id": "-bOEDOi6bfXS"
      },
      "source": [
        "## a)\n",
        "Muestre que $p_1 = \\lambda_1$ y que\n",
        "\n",
        "$$\n",
        "p_n = (1-\\lambda_1) (1-\\lambda_2) \\cdots (1-\\lambda_{n-1}) \\lambda_n\n",
        "$$"
      ]
    },
    {
      "cell_type": "markdown",
      "metadata": {
        "id": "DNj7AOHSboyQ"
      },
      "source": [
        "$$\\lambda_1=P(X=1|X>0)=\\frac{P(X=1,X>0)}{P(X>0)}=\\frac{P(X=1)}{1}=p_1$$"
      ]
    },
    {
      "cell_type": "markdown",
      "metadata": {
        "id": "e0EkSzr7gY6R"
      },
      "source": [
        "\\begin{align*}\n",
        "\\lambda_2 &=\\frac{p_2}{1-p_1}\\\\\n",
        "\\lambda_2(1-p_1) &= p_2\\\\\n",
        "\\lambda_2(1-\\lambda_1) &=p_2\n",
        "\\end{align*}\n",
        "\n"
      ]
    },
    {
      "cell_type": "markdown",
      "metadata": {
        "id": "qxR22SpFYoy-"
      },
      "source": [
        "\n",
        "Sean\n",
        "$$s(k)=\\sum_{j=1}^kp_j$$ y\n",
        "\n",
        "$$m(k)=\\prod_{j=1}^k(1-\\lambda_j)$$\n",
        "\n",
        "Vamos a probar por HI... osea queremos ver $p_{k+1}= \\lambda_{k+1}m(k)$ suponiendo que vale para $k$. Ahora tenemos por definicion:\n",
        "\n",
        "\\begin{align*}\n",
        "\\\\\n",
        "\\lambda_k &= \\frac{p_k}{1-s(k-1)}\\\\\n",
        "1-s(k-1) &= \\frac{p_k}{\\lambda_k} \\\\\n",
        "1-\\frac{p_k}{\\lambda_k} &=s(k-1)  \\\\\\\\\n",
        "&\\text{(Por HI)}\\\\\n",
        "1-m(k-1) &=s(k-1) \\quad (🐬)\n",
        "\\end{align*}\n",
        "\n",
        "\n",
        "\n",
        "Por lo tanto:\n",
        "\n",
        "\\begin{align*}\n",
        "\\\\\n",
        "p_{k+1} &= \\lambda_{k+1}(1-s(k)) \\\\\n",
        "&= \\lambda_{k+1}(1-(s(k-1)+p_k)) \\\\\\\\\n",
        "&\\text{Por }(🐬)\\\\\n",
        "&= \\lambda_{k+1}(1-(1-m(k-1)+p_k)) \\\\\n",
        "&= \\lambda_{k+1}(m(k-1)-p_k)\\\\\\\\\n",
        "&\\text{(Por HI)}\\\\\n",
        "&= \\lambda_{k+1}(m(k-1)-m(k-1)\\lambda_k)\\\\\n",
        "&= \\lambda_{k+1}m(k-1)(1-\\lambda_k)\\\\\n",
        "&= \\lambda_{k+1}m(k)  \n",
        "\\end{align*}\n"
      ]
    },
    {
      "cell_type": "markdown",
      "metadata": {
        "id": "EgTlpjGgqNl3"
      },
      "source": [
        "## <mark>***Método de la tasa discreta de riesgo***</mark>\n",
        "\n",
        "Para simular\n",
        "variables aleatorias discretas: Se genera una sucesión de\n",
        "números aleatorios que <mark>termina cuando el n-ésimo número\n",
        "generado es menor que $\\lambda_n$</mark>.\n",
        "El algoritmo puede escribirse como sigue:\n",
        "\n",
        "> `Paso 1: X = 1`\n",
        "\n",
        "> `Paso 2: Generar U`\n",
        "\n",
        "> `Paso 3: Si U <` $\\lambda_X$`, terminar.`\n",
        "\n",
        "> `Paso 4: X = X + 1`\n",
        "\n",
        "> `Paso 5: Ir al Paso 2`"
      ]
    },
    {
      "cell_type": "code",
      "execution_count": null,
      "metadata": {
        "id": "S-GADqt7ycCc",
        "cellView": "form"
      },
      "outputs": [],
      "source": [
        "#@title algoritmo de tasa de riesgo\n",
        "def x_tasa_discreta(p,**kwargs):\n",
        "    \"\"\"\n",
        "    Metodo de la tasa discreta\n",
        "    \"\"\"\n",
        "\n",
        "    k = 1\n",
        "    sum = 1\n",
        "    l = 1\n",
        "    while True:\n",
        "        u = random.random()\n",
        "        if k == 1:\n",
        "            pass\n",
        "        else:\n",
        "          sum -= p(x=k-1,**kwargs)\n",
        "          # sum -= l*sum\n",
        "        l = p(x=k,**kwargs)/sum\n",
        "        if u < l:\n",
        "            return k\n",
        "        k += 1"
      ]
    },
    {
      "cell_type": "markdown",
      "metadata": {
        "id": "rhOG-0Y1qraN"
      },
      "source": [
        "## b)\n",
        "Muestre que los valores de $X$ que genera este\n",
        "proceso tienen la distribución de probabilidad deseada."
      ]
    },
    {
      "cell_type": "markdown",
      "metadata": {
        "id": "fAkCp2RTrrPk"
      },
      "source": [
        "Supongamos que $X$ genera el valor $n$, es decir, sucedio que para cada $i< n$ se genero un valor $u_i$ aleatorio en $\\,\\mathcal U[0,1]$ que cumplieron $u_i\\geq\\lambda_i$, pero el $n$-esimo generado cumplió $u_n<\\lambda_n$ osea:\n",
        "\n",
        "\n",
        "\\begin{align*}\n",
        "P(X \\text{ generar } n)&=\\\\\n",
        "P(u_1\\geq\\lambda_1,\\cdots,u_{n-1}\\geq\\lambda_{n-1},u_n<\\lambda_n)&=\\prod_{i=1}^{n-1}P(u_i>\\lambda_i)\\cdot P(u_n<\\lambda_n)\\\\\n",
        "&=\\prod_{i=1}^{n-1}(1-\\lambda_i)\\cdot \\lambda_n\\\\\n",
        "&=p_n\n",
        "\\end{align*}"
      ]
    },
    {
      "cell_type": "markdown",
      "metadata": {
        "id": "canjdy6rtvYJ"
      },
      "source": [
        "## c)\n",
        "Suponga que $X$ es una variable aleatoria\n",
        "geométrica con parámetro $p$:\n",
        "\n",
        "$$\n",
        "P(X=n) = p (1-p)^{n-1} \\;,\\;\\; n \\geq 1.\n",
        "$$\n",
        "\n",
        "Determine los valores de $\\lambda_n, n \\geq 1$. Explique cómo\n",
        "funciona el algoritmo anterior en este caso y por qué es evidente\n",
        "su validez."
      ]
    },
    {
      "cell_type": "markdown",
      "metadata": {
        "id": "pW7mH58bt-xg"
      },
      "source": [
        "La acumulada es $P(X\\leq n)=1-(1-p)^n$, por lo tanto\n",
        "\\begin{align*}\n",
        "\\\\\n",
        "P(X> n-1)=1-P(X\\leq n-1)=1-(1-(1-p)^{n-1})=(1-p)^{n-1}\n",
        "\\end{align*}\n",
        " entonces:\n",
        "\n",
        "$$\\lambda_n=\\frac{p(1-p)^{n-1}}{(1-p)^{n-1}}=p$$"
      ]
    },
    {
      "cell_type": "code",
      "execution_count": null,
      "metadata": {
        "id": "lGq3UAyNc1pA"
      },
      "outputs": [],
      "source": [
        "def geom_tasa_discreta(pr):\n",
        "    \"\"\"\n",
        "    Metodo de la tasa discreta para una variable geometrica\n",
        "    \"\"\"\n",
        "\n",
        "    k = 1\n",
        "    while True:\n",
        "        u = random.random()\n",
        "        if u < pr:\n",
        "            return k\n",
        "        k += 1"
      ]
    },
    {
      "cell_type": "code",
      "execution_count": null,
      "metadata": {
        "colab": {
          "base_uri": "https://localhost:8080/",
          "height": 372
        },
        "id": "-aMyyOw5md-Z",
        "outputId": "86319ba8-f7ee-44b8-b278-e5c05ca495ad"
      },
      "outputs": [
        {
          "data": {
            "image/png": "[encoded data removed]",
            "text/plain": [
              "<Figure size 640x480 with 1 Axes>"
            ]
          },
          "metadata": {},
          "output_type": "display_data"
        }
      ],
      "source": [
        "#@title { vertical-output: true}\n",
        "n_sim = int(1e4)\n",
        "s = simulate(geom_tasa_discreta,\n",
        "             n_sim,\n",
        "             pr=0.5);\n",
        "sns.histplot(s[0]);"
      ]
    }
  ],
  "metadata": {
    "colab": {
      "provenance": [],
      "include_colab_link": true
    },
    "kernelspec": {
      "display_name": "Python 3",
      "name": "python3"
    },
    "language_info": {
      "name": "python"
    }
  },
  "nbformat": 4,
  "nbformat_minor": 0
}