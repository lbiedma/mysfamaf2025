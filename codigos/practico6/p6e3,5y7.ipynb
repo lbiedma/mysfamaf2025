{
  "nbformat": 4,
  "nbformat_minor": 0,
  "metadata": {
    "colab": {
      "provenance": [],
      "toc_visible": true
    },
    "kernelspec": {
      "name": "python3",
      "display_name": "Python 3"
    },
    "language_info": {
      "name": "python"
    }
  },
  "cells": [
    {
      "cell_type": "markdown",
      "source": [
        "# Ejercicio 3"
      ],
      "metadata": {
        "id": "6W1m0ViALLc-"
      }
    },
    {
      "cell_type": "code",
      "execution_count": null,
      "metadata": {
        "colab": {
          "base_uri": "https://localhost:8080/"
        },
        "id": "nef_E1gN9Rdz",
        "outputId": "00f06f31-dca0-4aee-f1f1-318cc5c372c0"
      },
      "outputs": [
        {
          "output_type": "stream",
          "name": "stdout",
          "text": [
            "Valor del corte (d) = 0.000510213456924654,\n",
            "Simulaciones requeridas (n) = 170010\n",
            "\n",
            "  #sim |   int   |   s    |   intervalo\n",
            "  1000 | -0.4335 | 0.0067 | (-0.4466,-0.4205)\n",
            "  5000 | -0.4375 | 0.0029 | (-0.4433,-0.4318)\n",
            "  7000 | -0.4358 | 0.0025 | (-0.4407,-0.4309)\n",
            "170010 | -0.4332 | 0.0005 | (-0.4342,-0.4322)\n"
          ]
        }
      ],
      "source": [
        "#@title i\n",
        "from scipy import stats\n",
        "import random\n",
        "import numpy as np\n",
        "random.seed(42)\n",
        "L = 2 * 0.001 # semiancho\n",
        "cf = 0.95     # confianza\n",
        "alfa = 1 - cf\n",
        "# calculamos z_alpha/2 que cumple P(Z>z_alpha/2) = alpha/2\n",
        "z_alfa_2 = stats.norm.ppf(1-alfa/2)\n",
        "# calculamos el criterio de corte en base al semiancho y confianza\n",
        "d = L / (2 * z_alfa_2)\n",
        "\n",
        "def f(x):\n",
        "  return np.sin(x) / x\n",
        "# escaleo para llevar (pi,2pi)->(0,1)\n",
        "def g(x):\n",
        "  return f(np.pi * (1 + x)) * np.pi\n",
        "\n",
        "############################################################################\n",
        "\n",
        "media = g(random.random())\n",
        "var, n = 0, 1\n",
        "s = np.inf # desvio muestral\n",
        "lista = []\n",
        "while s > d:\n",
        "  n += 1\n",
        "  X = g(random.random())\n",
        "  media_ant = media\n",
        "  media = media_ant + (X - media_ant) / n\n",
        "  var =  var * (1- 1 /(n-1)) + n*(media- media_ant)**2\n",
        "  s = np.sqrt(var/n)\n",
        "  if n in [1000,5000,7000]:\n",
        "    lista.append(media)\n",
        "    lista.append(s)\n",
        "    lista.append((media - z_alfa_2 * s,media + z_alfa_2 * s))\n",
        "\n",
        "lista.append(media)\n",
        "lista.append(s)\n",
        "lista.append((media - z_alfa_2 * s, media + z_alfa_2 * s))\n",
        "\n",
        "print(f'Valor del corte (d) = {d},\\nSimulaciones requeridas (n) = {n}')\n",
        "print()\n",
        "print('  #sim','|','  int  ','|','  s   ','|','  intervalo')\n",
        "for i,j in zip([0,3,6,9],['  1000','  5000','  7000',n]):\n",
        "  print(j,'|',f'{lista[i]:.4f}','|',f'{lista[i+1]:.4f}','|',f'({lista[i+2][0]:.4f},{lista[i+2][1]:.4f})')"
      ]
    },
    {
      "cell_type": "markdown",
      "metadata": {
        "id": "eobrybUFC8Ma"
      },
      "source": [
        "Integral calculada https://www.calculadora-de-integrales.com/#expr=sin%28x%29%20%2F%20x&lbound=%CF%80&ubound=2%CF%80"
      ]
    },
    {
      "cell_type": "code",
      "source": [
        "#@title ii\n",
        "from scipy import stats\n",
        "import random\n",
        "import numpy as np\n",
        "random.seed(42)\n",
        "L = 2 * 0.001 # semiancho\n",
        "cf = 0.95     # confianza\n",
        "alfa = 1 - cf\n",
        "# calculamos z_alpha/2 que cumple P(Z>z_alpha/2) = alpha/2\n",
        "z_alfa_2 = stats.norm.ppf(1-alfa/2)\n",
        "# calculamos el criterio de corte en base al semiancho y confianza\n",
        "d = L / (2 * z_alfa_2)\n",
        "\n",
        "def f(x):\n",
        "  return 3 / (3 + x**4)\n",
        "# escaleo para llevar (0,infty)->(0,1)\n",
        "def g(x):\n",
        "  return f(1/x - 1) / x **2\n",
        "\n",
        "############################################################################\n",
        "\n",
        "media = g(random.random())\n",
        "var, n = 0, 1\n",
        "s = np.inf # desvio muestral\n",
        "lista = []\n",
        "while s > d:\n",
        "  n += 1\n",
        "  X = g(random.random())\n",
        "  media_ant = media\n",
        "  media = media_ant + (X - media_ant) / n\n",
        "  var =  var * (1- 1 /(n-1)) + n*(media- media_ant)**2\n",
        "  s = np.sqrt(var/n)\n",
        "  if n in [1000,5000,7000]:\n",
        "    lista.append(media)\n",
        "    lista.append(s)\n",
        "    lista.append((media - z_alfa_2 * s,media + z_alfa_2 * s))\n",
        "\n",
        "lista.append(media)\n",
        "lista.append(s)\n",
        "lista.append((media - z_alfa_2 * s, media + z_alfa_2 * s))\n",
        "\n",
        "print(f'Valor del corte (d) = {d},\\nSimulaciones requeridas (n) = {n}')\n",
        "print()\n",
        "print('  #sim','|','  int  ','|','  s   ','|','  intervalo')\n",
        "for i,j in zip([0,3,6,9],['  1000','  5000','  7000',n]):\n",
        "  print(j,'|',f'{lista[i]:.4f}','|',f'{lista[i+1]:.4f}','|',f'({lista[i+2][0]:.4f},{lista[i+2][1]:.4f})')"
      ],
      "metadata": {
        "colab": {
          "base_uri": "https://localhost:8080/"
        },
        "id": "hgkxMdeBOavh",
        "outputId": "867fdcf7-1e9a-4d92-a8cb-03332604ca84"
      },
      "execution_count": null,
      "outputs": [
        {
          "output_type": "stream",
          "name": "stdout",
          "text": [
            "Valor del corte (d) = 0.000510213456924654,\n",
            "Simulaciones requeridas (n) = 3662136\n",
            "\n",
            "  #sim |   int   |   s    |   intervalo\n",
            "  1000 | 1.4786 | 0.0306 | (1.4185,1.5386)\n",
            "  5000 | 1.4713 | 0.0138 | (1.4443,1.4984)\n",
            "  7000 | 1.4701 | 0.0117 | (1.4472,1.4929)\n",
            "3662136 | 1.4617 | 0.0005 | (1.4607,1.4627)\n"
          ]
        }
      ]
    },
    {
      "cell_type": "markdown",
      "metadata": {
        "id": "EH9aXYHn149r"
      },
      "source": [
        "Integral calculada\n",
        "https://www.calculadora-de-integrales.com/#expr=3%20%2F%20%283%2Bx%2A%2A4%29&lbound=0&ubound=inf"
      ]
    },
    {
      "cell_type": "markdown",
      "source": [
        "# Ejercicio 5"
      ],
      "metadata": {
        "id": "YBsL7xIGLQDk"
      }
    },
    {
      "cell_type": "markdown",
      "source": [
        "**a**\n",
        "\n",
        "Si $P(M>n)$ significa que:\n",
        "$$\n",
        "U_1\\leq U_2\\leq\\cdots\\leq U_n\n",
        "$$\n",
        "\n",
        "Osea tenemos una lista $[U_1, U_2,\\cdots, U_n]$ ordenada de menor a mayor. Como hay $n!$ posibles formas de permutar la lista significa y la lista ordenada es solo una de esas posibles permutaciones significa que la probabilidad de obtener la lista ordenada es $1/n!$ es decir:\n",
        "$$\n",
        "P(M>n)=\\frac{1}{n!}\n",
        "$$\n"
      ],
      "metadata": {
        "id": "QlPAFRfHQH5Q"
      }
    },
    {
      "cell_type": "markdown",
      "source": [
        "**b**\n",
        "\n",
        "Por a) y la expansion de taylor de $e^x$\n",
        "$$\n",
        "E[M] = \\sum_{n=0}^{\\infty} P(M > n)=\\sum_{n=0}^{\\infty}\\frac{1}{n!}=\\sum_{n=0}^{\\infty}\\frac{1^n}{n!}=e^1=e\n",
        "$$"
      ],
      "metadata": {
        "id": "f-gRy1wHRfKF"
      }
    },
    {
      "cell_type": "code",
      "execution_count": null,
      "metadata": {
        "id": "fnA9i2f_zcJF"
      },
      "outputs": [],
      "source": [
        "#@title variable M\n",
        "import random\n",
        "def m_min():\n",
        "  i = 1\n",
        "  n_l = 0\n",
        "  n_u = random.random()\n",
        "  while n_l < n_u:\n",
        "    i += 1\n",
        "    n_l = n_u\n",
        "    n_u = random.random()\n",
        "  return i"
      ]
    },
    {
      "cell_type": "markdown",
      "source": [
        "Para estimar el valor de $e$ utilizamos la media muestral de la variable $M$ mediante simulaciones de `m_min`."
      ],
      "metadata": {
        "id": "UM2MPmW_cYKn"
      }
    },
    {
      "cell_type": "code",
      "source": [
        "#@title c\n",
        "from scipy import stats\n",
        "import random\n",
        "import numpy as np\n",
        "random.seed(20)\n",
        "\n",
        "media = m_min()\n",
        "var, n = 0, 1\n",
        "var_m = np.inf\n",
        "\n",
        "while var_m > 0.01:\n",
        "  n += 1\n",
        "  X = m_min()\n",
        "  media_ant = media\n",
        "  media = media_ant + (X - media_ant) / n\n",
        "  var =  var * (1- 1 /(n-1)) + n*(media- media_ant)**2\n",
        "  var_m = var/n\n",
        "\n",
        "print(f'Simulaciones requeridas = {n}\\n'\n",
        "      f'      Varianza muestral = {var_m:.4f}\\n\\n'\n",
        "      f'Valor estimado de e = {media:.5f}\\n'\n",
        "      f'     Error absoluto = {np.e-media:.5f}\\n'\n",
        "      f'     Error relativo = {(np.e-media)/np.e :.5f}\\n'\n",
        ")"
      ],
      "metadata": {
        "colab": {
          "base_uri": "https://localhost:8080/"
        },
        "id": "JW4UtEPHwyTB",
        "outputId": "414d2820-ece0-4f81-9efe-4e34f93d28bf"
      },
      "execution_count": null,
      "outputs": [
        {
          "output_type": "stream",
          "name": "stdout",
          "text": [
            "Simulaciones requeridas = 64\n",
            "      Varianza muestral = 0.0098\n",
            "\n",
            "Valor estimado de e = 2.59375\n",
            "     Error absoluto = 0.12453\n",
            "     Error relativo = 0.04581\n",
            "\n"
          ]
        }
      ]
    },
    {
      "cell_type": "code",
      "source": [
        "#@title d\n",
        "from scipy import stats\n",
        "import random\n",
        "import numpy as np\n",
        "random.seed(20)\n",
        "L = 0.1\n",
        "cf = 0.95\n",
        "alfa = 1 - cf\n",
        "z_alfa_2 = stats.norm.ppf(1-alfa/2)\n",
        "d = L / (2 * z_alfa_2)\n",
        "\n",
        "media = m_min()\n",
        "var, n = 0, 1\n",
        "dev_m = np.inf\n",
        "\n",
        "while dev_m > d:\n",
        "  n += 1\n",
        "  X = m_min()\n",
        "  media_ant = media\n",
        "  media = media_ant + (X - media_ant) / n\n",
        "  var =  var * (1- 1 /(n-1)) + n*(media- media_ant)**2\n",
        "  dev_m = np.sqrt(var/n)\n",
        "\n",
        "print(f'    Valor del corte (d) = {d:.6f}\\n'\n",
        "      f'Simulaciones requeridas = {n}\\n'\n",
        "      f'        Desvio muestral = {dev_m :.5f}\\n'\n",
        "      f'              Intervalo = ({media - z_alfa_2 * dev_m:.3f},{media + z_alfa_2 * dev_m:.3f})\\n\\n'\n",
        "      f'Valor estimado de e = {media :.6f}\\n'\n",
        "      f'     Error absoluto = {np.abs(np.e-media) :.5f}\\n'\n",
        "      f'     Error relativo = {np.abs((np.e-media)/np.e) :.5f}'\n",
        ")"
      ],
      "metadata": {
        "colab": {
          "base_uri": "https://localhost:8080/"
        },
        "id": "TcjU8Wm3vevc",
        "outputId": "7c137266-7317-4ff8-d587-a9dfe262c33c"
      },
      "execution_count": null,
      "outputs": [
        {
          "output_type": "stream",
          "name": "stdout",
          "text": [
            "    Valor del corte (d) = 0.025511\n",
            "Simulaciones requeridas = 1112\n",
            "        Desvio muestral = 0.02551\n",
            "              Intervalo = (2.662,2.762)\n",
            "\n",
            "Valor estimado de e = 2.712230\n",
            "     Error absoluto = 0.00605\n",
            "     Error relativo = 0.00223\n"
          ]
        }
      ]
    },
    {
      "cell_type": "markdown",
      "source": [
        "# Ejercicio 7"
      ],
      "metadata": {
        "id": "-niNs7MQLUmd"
      }
    },
    {
      "cell_type": "markdown",
      "source": [
        "En este caso el estimador para analizar es la media muestral\n",
        "$$\n",
        "\\hat\\theta(X_1,\\cdots,X_n)=\\overline X(n)\n",
        "$$\n",
        "\n",
        "Dado que $a=-5,b=5$ queremos estimar:\n",
        "$$\n",
        "P(-5<\\overline X(n)-\\mu<5)=P(|\\overline X(n)-\\mu|<5)\n",
        "$$\n",
        "\n",
        "Hay $10$ datos $(x_1,\\cdots,x_{10})$ por lo tanto $10^{10} = 1e10$ posibles muestras bootstrap, elegimos generar solo $N=1e5$. Como la media $\\mu$ es desconocida tomamos una estimacion en base a la muestra dada $\\mu\\sim\\hat\\theta(x_1,\\cdots,x_{10})$.\n",
        "\n",
        "\n",
        "\n",
        "Entonces estimamos la probabilidad deseada generando $N$ muestras bootstrap de la forma $(x_{i_1}^{(j)},\\cdots,x_{i_{10}}^{(j)})$ y luego contando:\n",
        "$$\n",
        "\\frac{1}{N}\\#\\bigg\\{(x_{i_1}^{(j)},\\cdots,x_{i_{10}}^{(j)}),1\\leq j\\leq N:|\\hat\\theta(x_{i_1}^{(j)},\\cdots,x_{i_{10}}^{(j)})-\\mu|<5\\bigg\\}\n",
        "$$"
      ],
      "metadata": {
        "id": "hgKAyDqIdteT"
      }
    },
    {
      "cell_type": "code",
      "source": [
        "import numpy as np\n",
        "np.random.seed(42)\n",
        "data = np.array([56, 101, 78, 67, 93, 87, 64, 72, 80, 69])\n",
        "n = len(data)\n",
        "# estimamos mu como la media muestral del sampleo original\n",
        "mu = np.mean(data)\n",
        "# elegimos la cantidad de muestras bootstrap a generar\n",
        "n_bs = int(1e5)\n",
        "\n",
        "count = 0\n",
        "print('algunos sampleos de ejemplo')\n",
        "for i in range(n_bs):\n",
        "  # generamos una muestra bootstrap\n",
        "  sample = np.random.choice(data, size=n)\n",
        "  if i % 25000 == 0:\n",
        "    print(f'{sample}')\n",
        "  # vemos si la muestra generada cumple la propiedad\n",
        "  if np.abs(np.mean(sample)-mu)<5:\n",
        "    count += 1\n",
        "\n",
        "print(f\"\\nEstimacion de p = {count/n_bs}\")"
      ],
      "metadata": {
        "colab": {
          "base_uri": "https://localhost:8080/"
        },
        "id": "SmzfpZem1Gtf",
        "outputId": "9c4f2202-260f-4794-fb97-9d0dd1fbda4a"
      },
      "execution_count": null,
      "outputs": [
        {
          "output_type": "stream",
          "name": "stdout",
          "text": [
            "algunos sampleos de ejemplo\n",
            "[64 67 72 93 64 69 78 64 72 93]\n",
            "[ 80  67  80  69  72  93  69  87  78 101]\n",
            "[ 72  93 101  72  56 101  56  69  56  56]\n",
            "[78 80 72 78 80 69 64 72 93 67]\n",
            "\n",
            "Estimacion de p = 0.761\n"
          ]
        }
      ]
    }
  ]
}