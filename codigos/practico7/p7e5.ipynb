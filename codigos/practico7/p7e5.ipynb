{
  "nbformat": 4,
  "nbformat_minor": 0,
  "metadata": {
    "colab": {
      "provenance": []
    },
    "kernelspec": {
      "name": "python3",
      "display_name": "Python 3"
    },
    "language_info": {
      "name": "python"
    }
  },
  "cells": [
    {
      "cell_type": "markdown",
      "source": [
        "# ejercicio 5"
      ],
      "metadata": {
        "id": "_DA6M8qK5Tlc"
      }
    },
    {
      "cell_type": "markdown",
      "source": [
        "Se asume que la distribucion subayecente $X$ a la muestra  es una binomial $Bi(8,p)$ con $p$ desconocido. Bajo esta suposicion sabesmos que $E[X]=np=8p$. Por lo tanto si estimamos la esperanza como la media muestral $E[X]\\sim\\overline X$ obtenemos:\n",
        "$$\n",
        "p\\sim\\frac{\\overline X}{8}=\\hat p\n",
        "$$\n",
        "\n",
        "Calcularemos luego el p-valor de la prueba de que los datos corresponden a la $Bi(8,\\hat p)$ segun el test **chicuadrado** y por **simulacion**.\n",
        "\n",
        "La binomial toma valores en $[0,\\ldots,8]$ el $T$ estaditico utilizado queda:\n",
        "$$\n",
        "T = \\sum_{i=0}^8 \\frac{(N_i - Np_i)^2}{Np_i}\n",
        "$$\n",
        "\n",
        "Recordando que $N_i$ son las frecuencias de la muestra, $N$ el tamanio de la muestra y $Np_i$ las frecuencias teoricas.\n",
        "\n",
        "Como se toman $k=9$ valores y se debe estimar **un** paramestro $(p)$ los grados de libertad de la variable chicuadrado para el test seran $(k-1)-1=7$."
      ],
      "metadata": {
        "id": "x8KP2JbMhkVK"
      }
    },
    {
      "cell_type": "markdown",
      "source": [
        "N"
      ],
      "metadata": {
        "id": "EZ_GVJpfhJ1o"
      }
    },
    {
      "cell_type": "code",
      "execution_count": null,
      "metadata": {
        "colab": {
          "base_uri": "https://localhost:8080/"
        },
        "outputId": "c162bfcb-dac9-4a34-f90f-4536a7faedf3",
        "id": "dPdI2aTT5Tlf"
      },
      "outputs": [
        {
          "output_type": "stream",
          "name": "stdout",
          "text": [
            "test statistic: 31.4993\n",
            "10000 muestras de tamanio 18\n",
            "====================================================================================================\n",
            "p-value (chi-cuadrado, gardos de libertad 7): 0.00005\n",
            "                        p-value (simulación): 0.01010\n",
            "====================================================================================================\n",
            "p estimado de la mustra - promedio de p estimado en cada simulacion: 0.0001285\n"
          ]
        }
      ],
      "source": [
        "import numpy as np\n",
        "from scipy.stats import chi2\n",
        "from scipy.stats import binom\n",
        "\n",
        "# Definimos T estadistico\n",
        "def T(freq_obs,freq_teo):\n",
        "  return np.sum((np.array(freq_obs) - np.array(freq_teo))**2 / np.array(freq_teo))\n",
        "\n",
        "muestra = [6, 7, 3, 4, 7, 3, 7, 2, 6, 3, 7, 8, 2, 1, 3, 5, 8, 7]\n",
        "n = len(muestra)\n",
        "\n",
        "n_binom = 8\n",
        "# estimamos p de la binomial en base a la muestra\n",
        "p_estimate = np.mean(muestra)/n_binom\n",
        "\n",
        "# construimois la frecuencia teorica\n",
        "rv = binom(n_binom, p_estimate)\n",
        "k_values = np.arange(n_binom + 1) # binomial(n_binom,p) toma valores [0,...,8]\n",
        "freq_teo = rv.pmf(k_values) * n\n",
        "\n",
        "# frecuencias observadas\n",
        "freq_obs = np.bincount(muestra, minlength=n_binom+1)\n",
        "\n",
        "#============= p-valor mediante el test chicuadrado ============================\n",
        "\n",
        "\n",
        "k = len(freq_teo)\n",
        "# grados de libertad = #(valores posibles) - 1 - #(parametros estimados)\n",
        "#                    = k - 1 - 1\n",
        "df = k - 2\n",
        "# evaluamos el estadistico en frecuencias observadas vs teoricas\n",
        "T_obs = T(freq_obs,freq_teo)\n",
        "#calculamos el p-valor\n",
        "p_val_chi = 1 - chi2.cdf(T_obs,df=df)\n",
        "\n",
        "\n",
        "#============= p-valor mediante simulaciones ===================================\n",
        "\n",
        "n_simulaciones = int(1e4)\n",
        "np.random.seed(42)\n",
        "T_simulados = [] # lista de T para cada simulacion\n",
        "p_dif = [] # lista de p estimados para cada simulaicon\n",
        "\n",
        "for i in range(n_simulaciones):\n",
        "    # generar muestra binomial(8,p) del mismo tamanio que la original (n)\n",
        "    # donde p es el estimado para la muestra original\n",
        "    muestra_sim = binom.rvs(n_binom, p_estimate, size=n)\n",
        "\n",
        "    # estimamos el p de la muestra generada\n",
        "    p_estimate_sim = np.mean(muestra_sim)/n_binom\n",
        "    p_dif.append(p_estimate_sim)\n",
        "\n",
        "    # construimos la frecuencia teorica en base al nuevo p estimado\n",
        "    rv = binom(n_binom, p_estimate_sim)\n",
        "    k_values = np.arange(n_binom + 1)\n",
        "    freq_teo_sim = rv.pmf(k_values) * n\n",
        "\n",
        "    # contruimos frecuencias observadas de la nueva muestra\n",
        "    freq_obs_sim = np.bincount(muestra_sim, minlength=n_binom+1)\n",
        "\n",
        "    # evaluamos el estadistico en frecuencias observadas vs teoricas\n",
        "    T_sim = T(freq_obs_sim,freq_teo_sim)\n",
        "    T_simulados.append(T_sim)\n",
        "\n",
        "# calculamos el p-valor de simulacion\n",
        "T_simulados = np.array(T_simulados)\n",
        "p_val_sim = np.mean(T_simulados >= T_obs)\n",
        "\n",
        "#===============================================================================\n",
        "\n",
        "print(f\"test statistic: {T_obs:.4f}\\n\"\n",
        "      f\"{n_simulaciones} muestras de tamanio {n}\\n\" + \"=\"*100 + \"\\n\"\n",
        "      f\"p-value (chi-cuadrado, gardos de libertad {k-2}): {p_val_chi:.5f}\\n\"\n",
        "      f\"                        p-value (simulación): {p_val_sim:.5f}\\n\" + \"=\"*100 + \"\\n\"\n",
        "      f\"p estimado de la mustra - promedio de p estimado en cada simulacion: {np.abs(p_estimate - np.mean(p_dif)):.7f}\")"
      ]
    },
    {
      "cell_type": "markdown",
      "source": [
        "Notar las discrepacia entre los p-valores obtenidos segun cada metodo, no observada en ejercios anteriores."
      ],
      "metadata": {
        "id": "Zqk8KGo4roDP"
      }
    }
  ]
}